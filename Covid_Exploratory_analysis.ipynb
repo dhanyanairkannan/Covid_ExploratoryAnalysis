{
 "cells": [
  {
   "cell_type": "code",
   "execution_count": 1,
   "metadata": {},
   "outputs": [],
   "source": [
    "# Covid Exploratory Analysis"
   ]
  },
  {
   "cell_type": "code",
   "execution_count": 2,
   "metadata": {},
   "outputs": [],
   "source": [
    "import numpy as np\n",
    "import pandas as pd\n",
    "import matplotlib.pyplot as plt"
   ]
  },
  {
   "cell_type": "markdown",
   "metadata": {},
   "source": [
    "\n",
    "### 1.1: Reporting number of COVID-19 cases in each London local authority \n",
    "First, read the “cases.csv” dataset into a dataframe. Create a new dataframe where rows are the unique names of London local authorities and the columns are the total number of covid cases in each London local authority (include both count columns in the starting dataframe)."
   ]
  },
  {
   "cell_type": "code",
   "execution_count": 3,
   "metadata": {},
   "outputs": [
    {
     "data": {
      "text/html": [
       "<div>\n",
       "<style scoped>\n",
       "    .dataframe tbody tr th:only-of-type {\n",
       "        vertical-align: middle;\n",
       "    }\n",
       "\n",
       "    .dataframe tbody tr th {\n",
       "        vertical-align: top;\n",
       "    }\n",
       "\n",
       "    .dataframe thead th {\n",
       "        text-align: right;\n",
       "    }\n",
       "</style>\n",
       "<table border=\"1\" class=\"dataframe\">\n",
       "  <thead>\n",
       "    <tr style=\"text-align: right;\">\n",
       "      <th></th>\n",
       "      <th>MSOA11CD</th>\n",
       "      <th>MSOA11NM</th>\n",
       "      <th>Local authority</th>\n",
       "      <th>covid_19_deaths</th>\n",
       "      <th>covid_19_deaths_per_thousand</th>\n",
       "    </tr>\n",
       "  </thead>\n",
       "  <tbody>\n",
       "    <tr>\n",
       "      <th>0</th>\n",
       "      <td>E02000001</td>\n",
       "      <td>City of London 001</td>\n",
       "      <td>City of London</td>\n",
       "      <td>3</td>\n",
       "      <td>0.344590</td>\n",
       "    </tr>\n",
       "    <tr>\n",
       "      <th>1</th>\n",
       "      <td>E02000002</td>\n",
       "      <td>Barking and Dagenham 001</td>\n",
       "      <td>Barking and Dagenham</td>\n",
       "      <td>2</td>\n",
       "      <td>0.259067</td>\n",
       "    </tr>\n",
       "    <tr>\n",
       "      <th>2</th>\n",
       "      <td>E02000003</td>\n",
       "      <td>Barking and Dagenham 002</td>\n",
       "      <td>Barking and Dagenham</td>\n",
       "      <td>3</td>\n",
       "      <td>0.271469</td>\n",
       "    </tr>\n",
       "    <tr>\n",
       "      <th>3</th>\n",
       "      <td>E02000004</td>\n",
       "      <td>Barking and Dagenham 003</td>\n",
       "      <td>Barking and Dagenham</td>\n",
       "      <td>9</td>\n",
       "      <td>1.366535</td>\n",
       "    </tr>\n",
       "    <tr>\n",
       "      <th>4</th>\n",
       "      <td>E02000005</td>\n",
       "      <td>Barking and Dagenham 004</td>\n",
       "      <td>Barking and Dagenham</td>\n",
       "      <td>5</td>\n",
       "      <td>0.488806</td>\n",
       "    </tr>\n",
       "  </tbody>\n",
       "</table>\n",
       "</div>"
      ],
      "text/plain": [
       "    MSOA11CD                  MSOA11NM       Local authority  covid_19_deaths  \\\n",
       "0  E02000001        City of London 001        City of London                3   \n",
       "1  E02000002  Barking and Dagenham 001  Barking and Dagenham                2   \n",
       "2  E02000003  Barking and Dagenham 002  Barking and Dagenham                3   \n",
       "3  E02000004  Barking and Dagenham 003  Barking and Dagenham                9   \n",
       "4  E02000005  Barking and Dagenham 004  Barking and Dagenham                5   \n",
       "\n",
       "   covid_19_deaths_per_thousand  \n",
       "0                      0.344590  \n",
       "1                      0.259067  \n",
       "2                      0.271469  \n",
       "3                      1.366535  \n",
       "4                      0.488806  "
      ]
     },
     "execution_count": 3,
     "metadata": {},
     "output_type": "execute_result"
    }
   ],
   "source": [
    "df_cases=pd.read_csv(\"cases.csv\",sep=\",\")\n",
    "df_cases.head()"
   ]
  },
  {
   "cell_type": "code",
   "execution_count": 4,
   "metadata": {},
   "outputs": [
    {
     "data": {
      "text/html": [
       "<div>\n",
       "<style scoped>\n",
       "    .dataframe tbody tr th:only-of-type {\n",
       "        vertical-align: middle;\n",
       "    }\n",
       "\n",
       "    .dataframe tbody tr th {\n",
       "        vertical-align: top;\n",
       "    }\n",
       "\n",
       "    .dataframe thead th {\n",
       "        text-align: right;\n",
       "    }\n",
       "</style>\n",
       "<table border=\"1\" class=\"dataframe\">\n",
       "  <thead>\n",
       "    <tr style=\"text-align: right;\">\n",
       "      <th></th>\n",
       "      <th>Local authority</th>\n",
       "      <th>covid_19_deaths</th>\n",
       "      <th>covid_19_deaths_per_thousand</th>\n",
       "    </tr>\n",
       "  </thead>\n",
       "  <tbody>\n",
       "    <tr>\n",
       "      <th>0</th>\n",
       "      <td>Barking and Dagenham</td>\n",
       "      <td>103</td>\n",
       "      <td>0.501532</td>\n",
       "    </tr>\n",
       "    <tr>\n",
       "      <th>1</th>\n",
       "      <td>Barnet</td>\n",
       "      <td>287</td>\n",
       "      <td>0.735584</td>\n",
       "    </tr>\n",
       "    <tr>\n",
       "      <th>2</th>\n",
       "      <td>Bexley</td>\n",
       "      <td>125</td>\n",
       "      <td>0.523265</td>\n",
       "    </tr>\n",
       "    <tr>\n",
       "      <th>3</th>\n",
       "      <td>Brent</td>\n",
       "      <td>304</td>\n",
       "      <td>0.914662</td>\n",
       "    </tr>\n",
       "    <tr>\n",
       "      <th>4</th>\n",
       "      <td>Bromley</td>\n",
       "      <td>152</td>\n",
       "      <td>0.457759</td>\n",
       "    </tr>\n",
       "  </tbody>\n",
       "</table>\n",
       "</div>"
      ],
      "text/plain": [
       "        Local authority  covid_19_deaths  covid_19_deaths_per_thousand\n",
       "0  Barking and Dagenham              103                      0.501532\n",
       "1                Barnet              287                      0.735584\n",
       "2                Bexley              125                      0.523265\n",
       "3                 Brent              304                      0.914662\n",
       "4               Bromley              152                      0.457759"
      ]
     },
     "execution_count": 4,
     "metadata": {},
     "output_type": "execute_result"
    }
   ],
   "source": [
    "# Assumption: The geographical locations have similar population size for as estimated number for covid_19_deaths_per_thousand column, since population data is from mid 2018 which may vary from the actual 2020 numbers.\n",
    "new_df_cases=df_cases.groupby('Local authority',as_index=False).agg({'covid_19_deaths':'sum','covid_19_deaths_per_thousand':'mean'})\n",
    "new_df_cases.head()"
   ]
  },
  {
   "cell_type": "markdown",
   "metadata": {},
   "source": [
    "### 1.2: Calculating percentage of COVID-19 cases in each London local authority \n",
    "Read the “population.csv” dataset and calculate the percentage of covid cases in each city of London region according to the total population and add it as a new column to the datafame. Sort the dataframe according to this column.\n"
   ]
  },
  {
   "cell_type": "code",
   "execution_count": 5,
   "metadata": {},
   "outputs": [
    {
     "data": {
      "text/html": [
       "<div>\n",
       "<style scoped>\n",
       "    .dataframe tbody tr th:only-of-type {\n",
       "        vertical-align: middle;\n",
       "    }\n",
       "\n",
       "    .dataframe tbody tr th {\n",
       "        vertical-align: top;\n",
       "    }\n",
       "\n",
       "    .dataframe thead th {\n",
       "        text-align: right;\n",
       "    }\n",
       "</style>\n",
       "<table border=\"1\" class=\"dataframe\">\n",
       "  <thead>\n",
       "    <tr style=\"text-align: right;\">\n",
       "      <th></th>\n",
       "      <th>Local authority</th>\n",
       "      <th>covid_19_deaths</th>\n",
       "      <th>covid_19_deaths_per_thousand</th>\n",
       "      <th>total_population_mid_2018</th>\n",
       "      <th>over_70_prop</th>\n",
       "    </tr>\n",
       "  </thead>\n",
       "  <tbody>\n",
       "    <tr>\n",
       "      <th>0</th>\n",
       "      <td>Barking and Dagenham</td>\n",
       "      <td>103</td>\n",
       "      <td>0.501532</td>\n",
       "      <td>211998</td>\n",
       "      <td>0.066743</td>\n",
       "    </tr>\n",
       "    <tr>\n",
       "      <th>1</th>\n",
       "      <td>Barnet</td>\n",
       "      <td>287</td>\n",
       "      <td>0.735584</td>\n",
       "      <td>392140</td>\n",
       "      <td>0.104650</td>\n",
       "    </tr>\n",
       "    <tr>\n",
       "      <th>2</th>\n",
       "      <td>Bexley</td>\n",
       "      <td>125</td>\n",
       "      <td>0.523265</td>\n",
       "      <td>247258</td>\n",
       "      <td>0.124081</td>\n",
       "    </tr>\n",
       "    <tr>\n",
       "      <th>3</th>\n",
       "      <td>Brent</td>\n",
       "      <td>304</td>\n",
       "      <td>0.914662</td>\n",
       "      <td>330795</td>\n",
       "      <td>0.085853</td>\n",
       "    </tr>\n",
       "    <tr>\n",
       "      <th>4</th>\n",
       "      <td>Bromley</td>\n",
       "      <td>152</td>\n",
       "      <td>0.457759</td>\n",
       "      <td>331096</td>\n",
       "      <td>0.131820</td>\n",
       "    </tr>\n",
       "  </tbody>\n",
       "</table>\n",
       "</div>"
      ],
      "text/plain": [
       "        Local authority  covid_19_deaths  covid_19_deaths_per_thousand  \\\n",
       "0  Barking and Dagenham              103                      0.501532   \n",
       "1                Barnet              287                      0.735584   \n",
       "2                Bexley              125                      0.523265   \n",
       "3                 Brent              304                      0.914662   \n",
       "4               Bromley              152                      0.457759   \n",
       "\n",
       "   total_population_mid_2018  over_70_prop  \n",
       "0                     211998      0.066743  \n",
       "1                     392140      0.104650  \n",
       "2                     247258      0.124081  \n",
       "3                     330795      0.085853  \n",
       "4                     331096      0.131820  "
      ]
     },
     "execution_count": 5,
     "metadata": {},
     "output_type": "execute_result"
    }
   ],
   "source": [
    "df_population=pd.read_csv('population.csv')\n",
    "df_population.head()\n",
    "\n",
    "# Assumption: The geographical locations have similar population size for as estimated number for the over_70_prop column.\n",
    "\n",
    "new_df_population=df_population.groupby('Local authority',as_index=False).agg({'total_population_mid_2018':'sum','over_70_prop':'mean'})\n",
    "new_df_population.head()\n",
    "new_df_cases=pd.merge(new_df_cases,new_df_population,on='Local authority',how='outer')\n",
    "new_df_cases.head()"
   ]
  },
  {
   "cell_type": "code",
   "execution_count": 6,
   "metadata": {},
   "outputs": [
    {
     "data": {
      "text/html": [
       "<div>\n",
       "<style scoped>\n",
       "    .dataframe tbody tr th:only-of-type {\n",
       "        vertical-align: middle;\n",
       "    }\n",
       "\n",
       "    .dataframe tbody tr th {\n",
       "        vertical-align: top;\n",
       "    }\n",
       "\n",
       "    .dataframe thead th {\n",
       "        text-align: right;\n",
       "    }\n",
       "</style>\n",
       "<table border=\"1\" class=\"dataframe\">\n",
       "  <thead>\n",
       "    <tr style=\"text-align: right;\">\n",
       "      <th></th>\n",
       "      <th>Local authority</th>\n",
       "      <th>covid_19_deaths</th>\n",
       "      <th>covid_19_deaths_per_thousand</th>\n",
       "      <th>total_population_mid_2018</th>\n",
       "      <th>over_70_prop</th>\n",
       "      <th>percentage_of_cases(%)</th>\n",
       "    </tr>\n",
       "  </thead>\n",
       "  <tbody>\n",
       "    <tr>\n",
       "      <th>14</th>\n",
       "      <td>Harrow</td>\n",
       "      <td>241</td>\n",
       "      <td>0.961620</td>\n",
       "      <td>250149</td>\n",
       "      <td>0.114148</td>\n",
       "      <td>0.096343</td>\n",
       "    </tr>\n",
       "    <tr>\n",
       "      <th>3</th>\n",
       "      <td>Brent</td>\n",
       "      <td>304</td>\n",
       "      <td>0.914662</td>\n",
       "      <td>330795</td>\n",
       "      <td>0.085853</td>\n",
       "      <td>0.091900</td>\n",
       "    </tr>\n",
       "    <tr>\n",
       "      <th>1</th>\n",
       "      <td>Barnet</td>\n",
       "      <td>287</td>\n",
       "      <td>0.735584</td>\n",
       "      <td>392140</td>\n",
       "      <td>0.104650</td>\n",
       "      <td>0.073188</td>\n",
       "    </tr>\n",
       "    <tr>\n",
       "      <th>8</th>\n",
       "      <td>Ealing</td>\n",
       "      <td>239</td>\n",
       "      <td>0.707447</td>\n",
       "      <td>341982</td>\n",
       "      <td>0.089893</td>\n",
       "      <td>0.069887</td>\n",
       "    </tr>\n",
       "    <tr>\n",
       "      <th>9</th>\n",
       "      <td>Enfield</td>\n",
       "      <td>220</td>\n",
       "      <td>0.662412</td>\n",
       "      <td>333869</td>\n",
       "      <td>0.098564</td>\n",
       "      <td>0.065894</td>\n",
       "    </tr>\n",
       "  </tbody>\n",
       "</table>\n",
       "</div>"
      ],
      "text/plain": [
       "   Local authority  covid_19_deaths  covid_19_deaths_per_thousand  \\\n",
       "14          Harrow              241                      0.961620   \n",
       "3            Brent              304                      0.914662   \n",
       "1           Barnet              287                      0.735584   \n",
       "8           Ealing              239                      0.707447   \n",
       "9          Enfield              220                      0.662412   \n",
       "\n",
       "    total_population_mid_2018  over_70_prop  percentage_of_cases(%)  \n",
       "14                     250149      0.114148                0.096343  \n",
       "3                      330795      0.085853                0.091900  \n",
       "1                      392140      0.104650                0.073188  \n",
       "8                      341982      0.089893                0.069887  \n",
       "9                      333869      0.098564                0.065894  "
      ]
     },
     "execution_count": 6,
     "metadata": {},
     "output_type": "execute_result"
    }
   ],
   "source": [
    "# Adding percentage_of_cases column with unit %\n",
    "new_df_cases['percentage_of_cases(%)']=new_df_cases['covid_19_deaths']/new_df_cases['total_population_mid_2018']*100\n",
    "\n",
    "# Sorted the column in descending order to see Local authorities with the highest percentage of cases\n",
    "new_df_cases=new_df_cases.sort_values('percentage_of_cases(%)',ascending=False)\n",
    "new_df_cases.head()"
   ]
  },
  {
   "cell_type": "markdown",
   "metadata": {},
   "source": [
    "### 1.3: Finding the largest and smallest population based on ethnicity group in each city of London\n",
    "\n",
    "Read the “ethnic.csv” dataset and calculate the population of different ethnicity groups in each London borough using column “total\\_population\\_mid\\_2018” from the first dataset “cases.csv”. Plot a bar chart to compare cases in each ethnicity group for each London local authority."
   ]
  },
  {
   "cell_type": "code",
   "execution_count": 7,
   "metadata": {},
   "outputs": [
    {
     "data": {
      "text/html": [
       "<div>\n",
       "<style scoped>\n",
       "    .dataframe tbody tr th:only-of-type {\n",
       "        vertical-align: middle;\n",
       "    }\n",
       "\n",
       "    .dataframe tbody tr th {\n",
       "        vertical-align: top;\n",
       "    }\n",
       "\n",
       "    .dataframe thead th {\n",
       "        text-align: right;\n",
       "    }\n",
       "</style>\n",
       "<table border=\"1\" class=\"dataframe\">\n",
       "  <thead>\n",
       "    <tr style=\"text-align: right;\">\n",
       "      <th></th>\n",
       "      <th>Local Authority</th>\n",
       "      <th>bame_population</th>\n",
       "      <th>black_population</th>\n",
       "      <th>pakistani_bangladeshi_population</th>\n",
       "      <th>indian_population</th>\n",
       "      <th>other_minority_population</th>\n",
       "    </tr>\n",
       "  </thead>\n",
       "  <tbody>\n",
       "    <tr>\n",
       "      <th>0</th>\n",
       "      <td>Barking and Dagenham</td>\n",
       "      <td>89035.227013</td>\n",
       "      <td>42377.522812</td>\n",
       "      <td>18196.829154</td>\n",
       "      <td>8663.394411</td>\n",
       "      <td>19797.480637</td>\n",
       "    </tr>\n",
       "    <tr>\n",
       "      <th>1</th>\n",
       "      <td>Barnet</td>\n",
       "      <td>142508.775250</td>\n",
       "      <td>30581.176527</td>\n",
       "      <td>8545.646001</td>\n",
       "      <td>31044.115686</td>\n",
       "      <td>72337.837036</td>\n",
       "    </tr>\n",
       "    <tr>\n",
       "      <th>2</th>\n",
       "      <td>Bexley</td>\n",
       "      <td>45457.720206</td>\n",
       "      <td>21483.158912</td>\n",
       "      <td>1611.827266</td>\n",
       "      <td>7523.398928</td>\n",
       "      <td>14839.335100</td>\n",
       "    </tr>\n",
       "    <tr>\n",
       "      <th>3</th>\n",
       "      <td>Brent</td>\n",
       "      <td>212080.735332</td>\n",
       "      <td>62903.271137</td>\n",
       "      <td>17232.359567</td>\n",
       "      <td>62202.038047</td>\n",
       "      <td>69743.066580</td>\n",
       "    </tr>\n",
       "    <tr>\n",
       "      <th>4</th>\n",
       "      <td>Bromley</td>\n",
       "      <td>52630.840886</td>\n",
       "      <td>20416.876853</td>\n",
       "      <td>2451.501883</td>\n",
       "      <td>6683.835140</td>\n",
       "      <td>23078.627010</td>\n",
       "    </tr>\n",
       "  </tbody>\n",
       "</table>\n",
       "</div>"
      ],
      "text/plain": [
       "        Local Authority  bame_population  black_population  \\\n",
       "0  Barking and Dagenham     89035.227013      42377.522812   \n",
       "1                Barnet    142508.775250      30581.176527   \n",
       "2                Bexley     45457.720206      21483.158912   \n",
       "3                 Brent    212080.735332      62903.271137   \n",
       "4               Bromley     52630.840886      20416.876853   \n",
       "\n",
       "   pakistani_bangladeshi_population  indian_population  \\\n",
       "0                      18196.829154        8663.394411   \n",
       "1                       8545.646001       31044.115686   \n",
       "2                       1611.827266        7523.398928   \n",
       "3                      17232.359567       62202.038047   \n",
       "4                       2451.501883        6683.835140   \n",
       "\n",
       "   other_minority_population  \n",
       "0               19797.480637  \n",
       "1               72337.837036  \n",
       "2               14839.335100  \n",
       "3               69743.066580  \n",
       "4               23078.627010  "
      ]
     },
     "execution_count": 7,
     "metadata": {},
     "output_type": "execute_result"
    }
   ],
   "source": [
    "df_ethnic=pd.read_csv('ethnic.csv',sep=',')\n",
    "# df_ethnic = df_ethnic.rename(columns={'Local Authority': 'Local authority'})\n",
    "\n",
    "ethnicity_by_boroughs=df_ethnic[['all_bame_prop','all_black_prop','pakistani_or_bangladeshi_prop','all_indian_prop']].multiply(df_population['total_population_mid_2018'],axis=0)\n",
    "\n",
    "ethnicity_by_boroughs=ethnicity_by_boroughs.rename(columns={'all_bame_prop':'bame_population','all_black_prop':'black_population','pakistani_or_bangladeshi_prop':'pakistani_bangladeshi_population','all_indian_prop':'indian_population'})\n",
    "ethnicity_by_boroughs.insert(0,'Local Authority',df_ethnic['Local Authority'])\n",
    "ethnicity_by_boroughs=ethnicity_by_boroughs.groupby('Local Authority',as_index=False).sum()\n",
    "\n",
    "# Calculating the population of other minorities within BAME who are not black, pakistani or bangladeshi, or indian.\n",
    "ethnicity_by_boroughs['other_minority_population']=ethnicity_by_boroughs['bame_population']-ethnicity_by_boroughs['black_population']-ethnicity_by_boroughs['pakistani_bangladeshi_population']-ethnicity_by_boroughs['indian_population']\n",
    "ethnicity_by_boroughs.head()"
   ]
  },
  {
   "cell_type": "code",
   "execution_count": 8,
   "metadata": {},
   "outputs": [
    {
     "data": {
      "text/plain": [
       "Text(0, 0.5, 'Population')"
      ]
     },
     "execution_count": 8,
     "metadata": {},
     "output_type": "execute_result"
    },
    {
     "data": {
      "image/png": "[encoded data removed]",
      "text/plain": [
       "<Figure size 1440x720 with 1 Axes>"
      ]
     },
     "metadata": {
      "needs_background": "light"
     },
     "output_type": "display_data"
    }
   ],
   "source": [
    "# Excluding the white population under the assumption that this chart is just to analyse the population of minority groups in London local authority.\n",
    "# Excluding BAME population column from this chart as the total population plotted, i.e. black, pakistani & bangladeshi, indian and other minorities, add up to the total BAME population.\n",
    "ethnicity_chart=ethnicity_by_boroughs.plot.bar(x='Local Authority',y=['black_population','pakistani_bangladeshi_population','indian_population','other_minority_population'],title='Population of ethnic groups by London local authorities',figsize=(20,10),stacked=True)\n",
    "ethnicity_chart.set_ylabel(\"Population\")\n",
    "# Assuming that the intention of this chart is to understand if there is a disporportionate impact of the virus against minorities, it would be helpful to have the covid cases data by each ethnic group.\n"
   ]
  },
  {
   "cell_type": "markdown",
   "metadata": {},
   "source": [
    "### 1-4: Analysing the medical conditions of each region\n",
    "Read the “medical.csv” dataset. Calculate total percentage of patients with “Hypertension”, “Obesity (18+)”, “Diabetes”, “Asthma”, and “Coronary heart disease” for each London local authority. For each medical condition, draw a boxplot of medical case frequencies for the 5 regions with the highest \"total\\_registered\\_patient\". Then, add a new column to the daraframe from section 1.2 to show the medical conditions with the highest number patients in each London borough.  "
   ]
  },
  {
   "cell_type": "code",
   "execution_count": 9,
   "metadata": {},
   "outputs": [
    {
     "data": {
      "text/plain": [
       "Text(0.5, 1.0, 'Medical cases for the 5 regions with the highest number of registered patients')"
      ]
     },
     "execution_count": 9,
     "metadata": {},
     "output_type": "execute_result"
    },
    {
     "data": {
      "image/png": "[encoded data removed]",
      "text/plain": [
       "<Figure size 1440x720 with 1 Axes>"
      ]
     },
     "metadata": {
      "needs_background": "light"
     },
     "output_type": "display_data"
    }
   ],
   "source": [
    "df_medical=pd.read_csv('medical.csv',sep=',')\n",
    "# Assuming that the data for each medical conditions is independent from each other.\n",
    "medical_condition_population=df_medical[['Hypertension','Obesity (18+)','Diabetes','Asthma','Coronary heart disease']].multiply(df_medical['total_registered_patients'],axis=0)\n",
    "# Dividing the population by 100 as previous numbers were in percentages and not proportions.\n",
    "medical_condition_population=medical_condition_population/100\n",
    "\n",
    "# Adding the Local Authority and Total registered patients columns for analysis - to groupby Local authority and calculate the percentage of the medical conditions by local authority\n",
    "medical_condition_population.insert(0,'Local authority',df_medical['Local authority'])\n",
    "medical_condition_population.insert(1,'total_registered_patients',df_medical['total_registered_patients'])\n",
    "medical_condition_population=medical_condition_population.groupby('Local authority',as_index=False).sum()\n",
    "# Calculating the total percentages for each medical condition by local authority\n",
    "medical_condition_population['Hypertension']=medical_condition_population['Hypertension']/medical_condition_population['total_registered_patients']*100\n",
    "medical_condition_population['Obesity (18+)']=medical_condition_population['Obesity (18+)']/medical_condition_population['total_registered_patients']*100\n",
    "medical_condition_population['Diabetes']=medical_condition_population['Diabetes']/medical_condition_population['total_registered_patients']*100\n",
    "medical_condition_population['Asthma']=medical_condition_population['Asthma']/medical_condition_population['total_registered_patients']*100\n",
    "medical_condition_population['Coronary heart disease']=medical_condition_population['Coronary heart disease']/medical_condition_population['total_registered_patients']*100\n",
    "\n",
    "# Sorting the data to see regions with the highest number of registered patients\n",
    "medical_condition_population=medical_condition_population.sort_values('total_registered_patients',ascending=False)\n",
    "\n",
    "top_5_regions=medical_condition_population.head()\n",
    "# The 5 regions with the highest Total Registered Patients are Ealing, Croydon, Barnet, Newham and Brent.\n",
    "medical_top_5=top_5_regions.boxplot(column=['Hypertension','Obesity (18+)','Diabetes','Asthma','Coronary heart disease'],figsize=(20,10))\n",
    "medical_top_5.set_xlabel('Medical Conditions')\n",
    "medical_top_5.set_ylabel('Percentage of registered patients (%)')\n",
    "plt.title('Medical cases for the 5 regions with the highest number of registered patients')"
   ]
  },
  {
   "cell_type": "code",
   "execution_count": 10,
   "metadata": {},
   "outputs": [
    {
     "data": {
      "text/html": [
       "<div>\n",
       "<style scoped>\n",
       "    .dataframe tbody tr th:only-of-type {\n",
       "        vertical-align: middle;\n",
       "    }\n",
       "\n",
       "    .dataframe tbody tr th {\n",
       "        vertical-align: top;\n",
       "    }\n",
       "\n",
       "    .dataframe thead th {\n",
       "        text-align: right;\n",
       "    }\n",
       "</style>\n",
       "<table border=\"1\" class=\"dataframe\">\n",
       "  <thead>\n",
       "    <tr style=\"text-align: right;\">\n",
       "      <th></th>\n",
       "      <th>Local authority</th>\n",
       "      <th>covid_19_deaths</th>\n",
       "      <th>covid_19_deaths_per_thousand</th>\n",
       "      <th>total_population_mid_2018</th>\n",
       "      <th>over_70_prop</th>\n",
       "      <th>percentage_of_cases(%)</th>\n",
       "      <th>Most common medical condition</th>\n",
       "    </tr>\n",
       "  </thead>\n",
       "  <tbody>\n",
       "    <tr>\n",
       "      <th>0</th>\n",
       "      <td>Harrow</td>\n",
       "      <td>241</td>\n",
       "      <td>0.961620</td>\n",
       "      <td>250149</td>\n",
       "      <td>0.114148</td>\n",
       "      <td>0.096343</td>\n",
       "      <td>Hypertension</td>\n",
       "    </tr>\n",
       "    <tr>\n",
       "      <th>1</th>\n",
       "      <td>Brent</td>\n",
       "      <td>304</td>\n",
       "      <td>0.914662</td>\n",
       "      <td>330795</td>\n",
       "      <td>0.085853</td>\n",
       "      <td>0.091900</td>\n",
       "      <td>Hypertension</td>\n",
       "    </tr>\n",
       "    <tr>\n",
       "      <th>2</th>\n",
       "      <td>Barnet</td>\n",
       "      <td>287</td>\n",
       "      <td>0.735584</td>\n",
       "      <td>392140</td>\n",
       "      <td>0.104650</td>\n",
       "      <td>0.073188</td>\n",
       "      <td>Hypertension</td>\n",
       "    </tr>\n",
       "    <tr>\n",
       "      <th>3</th>\n",
       "      <td>Ealing</td>\n",
       "      <td>239</td>\n",
       "      <td>0.707447</td>\n",
       "      <td>341982</td>\n",
       "      <td>0.089893</td>\n",
       "      <td>0.069887</td>\n",
       "      <td>Hypertension</td>\n",
       "    </tr>\n",
       "    <tr>\n",
       "      <th>4</th>\n",
       "      <td>Enfield</td>\n",
       "      <td>220</td>\n",
       "      <td>0.662412</td>\n",
       "      <td>333869</td>\n",
       "      <td>0.098564</td>\n",
       "      <td>0.065894</td>\n",
       "      <td>Hypertension</td>\n",
       "    </tr>\n",
       "  </tbody>\n",
       "</table>\n",
       "</div>"
      ],
      "text/plain": [
       "  Local authority  covid_19_deaths  covid_19_deaths_per_thousand  \\\n",
       "0          Harrow              241                      0.961620   \n",
       "1           Brent              304                      0.914662   \n",
       "2          Barnet              287                      0.735584   \n",
       "3          Ealing              239                      0.707447   \n",
       "4         Enfield              220                      0.662412   \n",
       "\n",
       "   total_population_mid_2018  over_70_prop  percentage_of_cases(%)  \\\n",
       "0                     250149      0.114148                0.096343   \n",
       "1                     330795      0.085853                0.091900   \n",
       "2                     392140      0.104650                0.073188   \n",
       "3                     341982      0.089893                0.069887   \n",
       "4                     333869      0.098564                0.065894   \n",
       "\n",
       "  Most common medical condition  \n",
       "0                  Hypertension  \n",
       "1                  Hypertension  \n",
       "2                  Hypertension  \n",
       "3                  Hypertension  \n",
       "4                  Hypertension  "
      ]
     },
     "execution_count": 10,
     "metadata": {},
     "output_type": "execute_result"
    }
   ],
   "source": [
    "# Assumption: Adding column to show the most common medical condition within each local authority, i.e. stating which medical condition has the highest number of patients.\n",
    "# Finding the most common medical condition by local authority.\n",
    "medical_condition_population['Most common medical condition'] = medical_condition_population[['Hypertension','Obesity (18+)','Diabetes','Asthma','Coronary heart disease']].idxmax(axis=1)\n",
    "new_df_cases = pd.merge(new_df_cases,medical_condition_population[['Local authority','Most common medical condition']],on='Local authority', how='left')\n",
    "new_df_cases.head()\n",
    "# As seen in the boxplot, and further confirmed by the newly added column, Hypertension is the most common medical condition for all local authorities."
   ]
  },
  {
   "cell_type": "markdown",
   "metadata": {},
   "source": [
    "\n",
    "### 2.1: Reading in the datasets\n",
    "Read columns \"country, date, cases\" from file \"confirmed\\_cases\\_by\\_country.csv\" into a dataframe called \"cases\\_by\\_country\".\n",
    "Read columns \"is\\_china, date, cases\" from \"confirmed\\_cases\\_china\\_vs\\_world.csv\" into a dataframe called \"cases\\_all\". Rename the column \"is\\_china\" to \"country\" (hint you may use .rename()). Then split this dataframe into two new ones: cases in China (\"cases\\_china\") and cases elsewhere (\"cases\\_not\\_china\"). "
   ]
  },
  {
   "cell_type": "code",
   "execution_count": 11,
   "metadata": {},
   "outputs": [
    {
     "data": {
      "text/html": [
       "<div>\n",
       "<style scoped>\n",
       "    .dataframe tbody tr th:only-of-type {\n",
       "        vertical-align: middle;\n",
       "    }\n",
       "\n",
       "    .dataframe tbody tr th {\n",
       "        vertical-align: top;\n",
       "    }\n",
       "\n",
       "    .dataframe thead th {\n",
       "        text-align: right;\n",
       "    }\n",
       "</style>\n",
       "<table border=\"1\" class=\"dataframe\">\n",
       "  <thead>\n",
       "    <tr style=\"text-align: right;\">\n",
       "      <th></th>\n",
       "      <th>country</th>\n",
       "      <th>date</th>\n",
       "      <th>cases</th>\n",
       "    </tr>\n",
       "  </thead>\n",
       "  <tbody>\n",
       "    <tr>\n",
       "      <th>0</th>\n",
       "      <td>Afghanistan</td>\n",
       "      <td>2020-01-22</td>\n",
       "      <td>0</td>\n",
       "    </tr>\n",
       "    <tr>\n",
       "      <th>1</th>\n",
       "      <td>Albania</td>\n",
       "      <td>2020-01-22</td>\n",
       "      <td>0</td>\n",
       "    </tr>\n",
       "    <tr>\n",
       "      <th>2</th>\n",
       "      <td>Algeria</td>\n",
       "      <td>2020-01-22</td>\n",
       "      <td>0</td>\n",
       "    </tr>\n",
       "    <tr>\n",
       "      <th>3</th>\n",
       "      <td>Andorra</td>\n",
       "      <td>2020-01-22</td>\n",
       "      <td>0</td>\n",
       "    </tr>\n",
       "    <tr>\n",
       "      <th>4</th>\n",
       "      <td>Antigua and Barbuda</td>\n",
       "      <td>2020-01-22</td>\n",
       "      <td>0</td>\n",
       "    </tr>\n",
       "  </tbody>\n",
       "</table>\n",
       "</div>"
      ],
      "text/plain": [
       "               country        date  cases\n",
       "0          Afghanistan  2020-01-22      0\n",
       "1              Albania  2020-01-22      0\n",
       "2              Algeria  2020-01-22      0\n",
       "3              Andorra  2020-01-22      0\n",
       "4  Antigua and Barbuda  2020-01-22      0"
      ]
     },
     "execution_count": 11,
     "metadata": {},
     "output_type": "execute_result"
    }
   ],
   "source": [
    "cases_by_country=pd.read_csv(\"confirmed_cases_by_country.csv\",usecols=['country','date','cases'])\n",
    "cases_by_country.head()"
   ]
  },
  {
   "cell_type": "code",
   "execution_count": 12,
   "metadata": {},
   "outputs": [
    {
     "data": {
      "text/html": [
       "<div>\n",
       "<style scoped>\n",
       "    .dataframe tbody tr th:only-of-type {\n",
       "        vertical-align: middle;\n",
       "    }\n",
       "\n",
       "    .dataframe tbody tr th {\n",
       "        vertical-align: top;\n",
       "    }\n",
       "\n",
       "    .dataframe thead th {\n",
       "        text-align: right;\n",
       "    }\n",
       "</style>\n",
       "<table border=\"1\" class=\"dataframe\">\n",
       "  <thead>\n",
       "    <tr style=\"text-align: right;\">\n",
       "      <th></th>\n",
       "      <th>country</th>\n",
       "      <th>date</th>\n",
       "      <th>cases</th>\n",
       "    </tr>\n",
       "  </thead>\n",
       "  <tbody>\n",
       "    <tr>\n",
       "      <th>0</th>\n",
       "      <td>China</td>\n",
       "      <td>2020-01-22</td>\n",
       "      <td>548</td>\n",
       "    </tr>\n",
       "    <tr>\n",
       "      <th>1</th>\n",
       "      <td>China</td>\n",
       "      <td>2020-01-23</td>\n",
       "      <td>95</td>\n",
       "    </tr>\n",
       "    <tr>\n",
       "      <th>2</th>\n",
       "      <td>China</td>\n",
       "      <td>2020-01-24</td>\n",
       "      <td>277</td>\n",
       "    </tr>\n",
       "    <tr>\n",
       "      <th>3</th>\n",
       "      <td>China</td>\n",
       "      <td>2020-01-25</td>\n",
       "      <td>486</td>\n",
       "    </tr>\n",
       "    <tr>\n",
       "      <th>4</th>\n",
       "      <td>China</td>\n",
       "      <td>2020-01-26</td>\n",
       "      <td>669</td>\n",
       "    </tr>\n",
       "  </tbody>\n",
       "</table>\n",
       "</div>"
      ],
      "text/plain": [
       "  country        date  cases\n",
       "0   China  2020-01-22    548\n",
       "1   China  2020-01-23     95\n",
       "2   China  2020-01-24    277\n",
       "3   China  2020-01-25    486\n",
       "4   China  2020-01-26    669"
      ]
     },
     "execution_count": 12,
     "metadata": {},
     "output_type": "execute_result"
    }
   ],
   "source": [
    "cases_all=pd.read_csv(\"confirmed_cases_china_vs_world.csv\",usecols=[\"is_china\",\"date\",\"cases\"])\n",
    "cases_all = cases_all.rename(columns={'is_china': 'country'})\n",
    "cases_all.head()"
   ]
  },
  {
   "cell_type": "code",
   "execution_count": 13,
   "metadata": {},
   "outputs": [
    {
     "data": {
      "text/html": [
       "<div>\n",
       "<style scoped>\n",
       "    .dataframe tbody tr th:only-of-type {\n",
       "        vertical-align: middle;\n",
       "    }\n",
       "\n",
       "    .dataframe tbody tr th {\n",
       "        vertical-align: top;\n",
       "    }\n",
       "\n",
       "    .dataframe thead th {\n",
       "        text-align: right;\n",
       "    }\n",
       "</style>\n",
       "<table border=\"1\" class=\"dataframe\">\n",
       "  <thead>\n",
       "    <tr style=\"text-align: right;\">\n",
       "      <th></th>\n",
       "      <th>country</th>\n",
       "      <th>date</th>\n",
       "      <th>cases</th>\n",
       "    </tr>\n",
       "  </thead>\n",
       "  <tbody>\n",
       "    <tr>\n",
       "      <th>0</th>\n",
       "      <td>China</td>\n",
       "      <td>2020-01-22</td>\n",
       "      <td>548</td>\n",
       "    </tr>\n",
       "    <tr>\n",
       "      <th>1</th>\n",
       "      <td>China</td>\n",
       "      <td>2020-01-23</td>\n",
       "      <td>95</td>\n",
       "    </tr>\n",
       "    <tr>\n",
       "      <th>2</th>\n",
       "      <td>China</td>\n",
       "      <td>2020-01-24</td>\n",
       "      <td>277</td>\n",
       "    </tr>\n",
       "    <tr>\n",
       "      <th>3</th>\n",
       "      <td>China</td>\n",
       "      <td>2020-01-25</td>\n",
       "      <td>486</td>\n",
       "    </tr>\n",
       "    <tr>\n",
       "      <th>4</th>\n",
       "      <td>China</td>\n",
       "      <td>2020-01-26</td>\n",
       "      <td>669</td>\n",
       "    </tr>\n",
       "  </tbody>\n",
       "</table>\n",
       "</div>"
      ],
      "text/plain": [
       "  country        date  cases\n",
       "0   China  2020-01-22    548\n",
       "1   China  2020-01-23     95\n",
       "2   China  2020-01-24    277\n",
       "3   China  2020-01-25    486\n",
       "4   China  2020-01-26    669"
      ]
     },
     "execution_count": 13,
     "metadata": {},
     "output_type": "execute_result"
    }
   ],
   "source": [
    "cases_china=cases_all.loc[cases_all['country']=='China'].copy()\n",
    "cases_not_china=cases_all.drop(cases_china.index[:])\n",
    "cases_china.head()"
   ]
  },
  {
   "cell_type": "markdown",
   "metadata": {},
   "source": [
    "### 2.2: Summarising the total number of confirmed cases by country\n",
    "Obtain the January records for \"cases_by_country\" and \"cases_china\" and summarise cases in China against cases in other countries in a dataframe for this month. Repeat this procedure for February and March. Create a bar plot to compare cases in China with cases in the 5 countries with most cases outside China for January, February and March."
   ]
  },
  {
   "cell_type": "code",
   "execution_count": 14,
   "metadata": {},
   "outputs": [
    {
     "data": {
      "text/html": [
       "<div>\n",
       "<style scoped>\n",
       "    .dataframe tbody tr th:only-of-type {\n",
       "        vertical-align: middle;\n",
       "    }\n",
       "\n",
       "    .dataframe tbody tr th {\n",
       "        vertical-align: top;\n",
       "    }\n",
       "\n",
       "    .dataframe thead th {\n",
       "        text-align: right;\n",
       "    }\n",
       "</style>\n",
       "<table border=\"1\" class=\"dataframe\">\n",
       "  <thead>\n",
       "    <tr style=\"text-align: right;\">\n",
       "      <th></th>\n",
       "      <th>month</th>\n",
       "      <th>country</th>\n",
       "      <th>cases</th>\n",
       "    </tr>\n",
       "  </thead>\n",
       "  <tbody>\n",
       "    <tr>\n",
       "      <th>0</th>\n",
       "      <td>February</td>\n",
       "      <td>China</td>\n",
       "      <td>69554</td>\n",
       "    </tr>\n",
       "    <tr>\n",
       "      <th>1</th>\n",
       "      <td>January</td>\n",
       "      <td>China</td>\n",
       "      <td>9802</td>\n",
       "    </tr>\n",
       "    <tr>\n",
       "      <th>2</th>\n",
       "      <td>March</td>\n",
       "      <td>China</td>\n",
       "      <td>1702</td>\n",
       "    </tr>\n",
       "  </tbody>\n",
       "</table>\n",
       "</div>"
      ],
      "text/plain": [
       "      month country  cases\n",
       "0  February   China  69554\n",
       "1   January   China   9802\n",
       "2     March   China   1702"
      ]
     },
     "execution_count": 14,
     "metadata": {},
     "output_type": "execute_result"
    }
   ],
   "source": [
    "cases_china['date'] = pd.to_datetime(cases_china['date'])\n",
    "china=cases_china.copy()\n",
    "china.insert(0,'month',china['date'].dt.month_name())\n",
    "china=china.groupby(['month','country'])['cases'].sum().reset_index()\n",
    "china.head()"
   ]
  },
  {
   "cell_type": "code",
   "execution_count": 15,
   "metadata": {},
   "outputs": [
    {
     "data": {
      "text/html": [
       "<div>\n",
       "<style scoped>\n",
       "    .dataframe tbody tr th:only-of-type {\n",
       "        vertical-align: middle;\n",
       "    }\n",
       "\n",
       "    .dataframe tbody tr th {\n",
       "        vertical-align: top;\n",
       "    }\n",
       "\n",
       "    .dataframe thead th {\n",
       "        text-align: right;\n",
       "    }\n",
       "</style>\n",
       "<table border=\"1\" class=\"dataframe\">\n",
       "  <thead>\n",
       "    <tr style=\"text-align: right;\">\n",
       "      <th></th>\n",
       "      <th>month</th>\n",
       "      <th>country</th>\n",
       "      <th>cases</th>\n",
       "    </tr>\n",
       "  </thead>\n",
       "  <tbody>\n",
       "    <tr>\n",
       "      <th>0</th>\n",
       "      <td>February</td>\n",
       "      <td>Afghanistan</td>\n",
       "      <td>1</td>\n",
       "    </tr>\n",
       "    <tr>\n",
       "      <th>1</th>\n",
       "      <td>February</td>\n",
       "      <td>Albania</td>\n",
       "      <td>0</td>\n",
       "    </tr>\n",
       "    <tr>\n",
       "      <th>2</th>\n",
       "      <td>February</td>\n",
       "      <td>Algeria</td>\n",
       "      <td>1</td>\n",
       "    </tr>\n",
       "    <tr>\n",
       "      <th>3</th>\n",
       "      <td>February</td>\n",
       "      <td>Andorra</td>\n",
       "      <td>0</td>\n",
       "    </tr>\n",
       "    <tr>\n",
       "      <th>4</th>\n",
       "      <td>February</td>\n",
       "      <td>Antigua and Barbuda</td>\n",
       "      <td>0</td>\n",
       "    </tr>\n",
       "  </tbody>\n",
       "</table>\n",
       "</div>"
      ],
      "text/plain": [
       "      month              country  cases\n",
       "0  February          Afghanistan      1\n",
       "1  February              Albania      0\n",
       "2  February              Algeria      1\n",
       "3  February              Andorra      0\n",
       "4  February  Antigua and Barbuda      0"
      ]
     },
     "execution_count": 15,
     "metadata": {},
     "output_type": "execute_result"
    }
   ],
   "source": [
    "cases_by_country['date'] = pd.to_datetime(cases_by_country['date'])\n",
    "countries=cases_by_country.copy()\n",
    "countries.insert(0,'month',countries.date.dt.month_name())\n",
    "countries=countries.groupby(['month','country'])['cases'].sum().reset_index()\n",
    "countries.head()"
   ]
  },
  {
   "cell_type": "code",
   "execution_count": 16,
   "metadata": {},
   "outputs": [
    {
     "data": {
      "text/html": [
       "<div>\n",
       "<style scoped>\n",
       "    .dataframe tbody tr th:only-of-type {\n",
       "        vertical-align: middle;\n",
       "    }\n",
       "\n",
       "    .dataframe tbody tr th {\n",
       "        vertical-align: top;\n",
       "    }\n",
       "\n",
       "    .dataframe thead th {\n",
       "        text-align: right;\n",
       "    }\n",
       "</style>\n",
       "<table border=\"1\" class=\"dataframe\">\n",
       "  <thead>\n",
       "    <tr style=\"text-align: right;\">\n",
       "      <th></th>\n",
       "      <th>month</th>\n",
       "      <th>country</th>\n",
       "      <th>cases</th>\n",
       "    </tr>\n",
       "  </thead>\n",
       "  <tbody>\n",
       "    <tr>\n",
       "      <th>2</th>\n",
       "      <td>March</td>\n",
       "      <td>China</td>\n",
       "      <td>1702</td>\n",
       "    </tr>\n",
       "    <tr>\n",
       "      <th>371</th>\n",
       "      <td>March</td>\n",
       "      <td>Italy</td>\n",
       "      <td>30378</td>\n",
       "    </tr>\n",
       "    <tr>\n",
       "      <th>367</th>\n",
       "      <td>March</td>\n",
       "      <td>Iran</td>\n",
       "      <td>15576</td>\n",
       "    </tr>\n",
       "    <tr>\n",
       "      <th>430</th>\n",
       "      <td>March</td>\n",
       "      <td>Spain</td>\n",
       "      <td>11703</td>\n",
       "    </tr>\n",
       "    <tr>\n",
       "      <th>353</th>\n",
       "      <td>March</td>\n",
       "      <td>Germany</td>\n",
       "      <td>9178</td>\n",
       "    </tr>\n",
       "    <tr>\n",
       "      <th>...</th>\n",
       "      <td>...</td>\n",
       "      <td>...</td>\n",
       "      <td>...</td>\n",
       "    </tr>\n",
       "    <tr>\n",
       "      <th>345</th>\n",
       "      <td>March</td>\n",
       "      <td>Equatorial Guinea</td>\n",
       "      <td>1</td>\n",
       "    </tr>\n",
       "    <tr>\n",
       "      <th>347</th>\n",
       "      <td>March</td>\n",
       "      <td>Eswatini</td>\n",
       "      <td>1</td>\n",
       "    </tr>\n",
       "    <tr>\n",
       "      <th>391</th>\n",
       "      <td>March</td>\n",
       "      <td>Mauritania</td>\n",
       "      <td>1</td>\n",
       "    </tr>\n",
       "    <tr>\n",
       "      <th>399</th>\n",
       "      <td>March</td>\n",
       "      <td>Nepal</td>\n",
       "      <td>0</td>\n",
       "    </tr>\n",
       "    <tr>\n",
       "      <th>337</th>\n",
       "      <td>March</td>\n",
       "      <td>Cruise Ship</td>\n",
       "      <td>-9</td>\n",
       "    </tr>\n",
       "  </tbody>\n",
       "</table>\n",
       "<p>152 rows × 3 columns</p>\n",
       "</div>"
      ],
      "text/plain": [
       "     month            country  cases\n",
       "2    March              China   1702\n",
       "371  March              Italy  30378\n",
       "367  March               Iran  15576\n",
       "430  March              Spain  11703\n",
       "353  March            Germany   9178\n",
       "..     ...                ...    ...\n",
       "345  March  Equatorial Guinea      1\n",
       "347  March           Eswatini      1\n",
       "391  March         Mauritania      1\n",
       "399  March              Nepal      0\n",
       "337  March        Cruise Ship     -9\n",
       "\n",
       "[152 rows x 3 columns]"
      ]
     },
     "execution_count": 16,
     "metadata": {},
     "output_type": "execute_result"
    }
   ],
   "source": [
    "# January cases\n",
    "jan_cases=countries.loc[countries['month']=='January'].sort_values(by='cases',ascending=False)\n",
    "china_jan= china.loc[china['month'] == 'January']\n",
    "jan_cases=pd.concat([china_jan,jan_cases])\n",
    "jan_cases\n",
    "\n",
    "# February cases\n",
    "feb_cases=countries.loc[countries['month']=='February'].sort_values(by='cases',ascending=False)\n",
    "china_feb= china.loc[china['month'] == 'February']\n",
    "feb_cases=pd.concat([china_feb,feb_cases])\n",
    "feb_cases\n",
    "\n",
    "# March cases\n",
    "mar_cases=countries.loc[countries['month']=='March'].sort_values(by='cases',ascending=False)\n",
    "china_mar= china.loc[china['month'] == 'March']\n",
    "mar_cases=pd.concat([china_mar,mar_cases])\n",
    "mar_cases"
   ]
  },
  {
   "cell_type": "code",
   "execution_count": 17,
   "metadata": {},
   "outputs": [
    {
     "data": {
      "text/plain": [
       "Text(0, 0.5, 'Number of Cases')"
      ]
     },
     "execution_count": 17,
     "metadata": {},
     "output_type": "execute_result"
    },
    {
     "data": {
      "image/png": "[encoded data removed]",
      "text/plain": [
       "<Figure size 1440x720 with 1 Axes>"
      ]
     },
     "metadata": {
      "needs_background": "light"
     },
     "output_type": "display_data"
    }
   ],
   "source": [
    "# Assumption: Comparing China's cases with 5 countries with most cumulative cases outside China for January to March\n",
    "countries=countries.groupby(['country'])['cases'].sum().reset_index()\n",
    "countries.sort_values(by='cases',ascending=False).head()\n",
    "\n",
    "# The top 5 countries with the highest cumulative cases from Jan to Mar are Italy, Iran, Spain, Germany and South Korea. Creating a list to filter the monthly dataframes for only these countries.\n",
    "comparing_countries=['China','Italy','Iran','Spain','Germany','Korea, South']\n",
    "top_5_and_china_jan=jan_cases.loc[jan_cases['country'].isin(comparing_countries)]\n",
    "top_5_and_china_feb=feb_cases.loc[feb_cases['country'].isin(comparing_countries)]\n",
    "top_5_and_china_mar=mar_cases.loc[mar_cases['country'].isin(comparing_countries)]\n",
    "top_5_countries_vs_china=pd.concat([top_5_and_china_jan,top_5_and_china_feb, top_5_and_china_mar],ignore_index=True)\n",
    "\n",
    "# Structuring data for graphical analysis\n",
    "top_5_countries_vs_china=top_5_countries_vs_china.set_index(['month','country'])\n",
    "top_5_countries_vs_china=top_5_countries_vs_china.unstack()\n",
    "\n",
    "# Arranging the months in order using categorical indexing\n",
    "top_5_countries_vs_china.index = pd.CategoricalIndex(top_5_countries_vs_china.index, categories=['January','February','March'], ordered=True)\n",
    "top_5_countries_vs_china = top_5_countries_vs_china.sort_index()\n",
    "jan_mar_trend=top_5_countries_vs_china.plot.bar(title='3-month trend of cases in China versus 5 countries with most cases outside China',figsize=(20,10))\n",
    "jan_mar_trend.set_ylabel('Number of Cases')"
   ]
  },
  {
   "cell_type": "markdown",
   "metadata": {},
   "source": [
    "### 2.3: Plotting the accumulated cases by date \n",
    "Add a new column called \"acc_cases\" in both \"cases_not_china\" and \"cases_china\" dataframes, which contains the accumulated number of cases by date. Create a time series plot for \"acc_cases\" column in \"cases_not_china\" dataframe."
   ]
  },
  {
   "cell_type": "code",
   "execution_count": 18,
   "metadata": {},
   "outputs": [
    {
     "data": {
      "text/plain": [
       "Text(0, 0.5, 'Number of Cases')"
      ]
     },
     "execution_count": 18,
     "metadata": {},
     "output_type": "execute_result"
    },
    {
     "data": {
      "image/png": "[encoded data removed]",
      "text/plain": [
       "<Figure size 1440x720 with 1 Axes>"
      ]
     },
     "metadata": {
      "needs_background": "light"
     },
     "output_type": "display_data"
    }
   ],
   "source": [
    "# Case 1 for Assumption 1\n",
    "# Assumption 1: Accumulated number of cases by date refers to the total number of daily cases.\n",
    "cases_china['acc_cases'] = cases_china.groupby(['date']).cumsum()\n",
    "cases_not_china['acc_cases']=cases_not_china.groupby(['date']).cumsum()\n",
    "accumulated_cases=cases_not_china.plot(x='date',y='acc_cases',title=\"Accumulated number of cases by date for countries (excluding China)\",figsize=(20,10))\n",
    "accumulated_cases.set_ylabel('Number of Cases')\n",
    "# This graph makes it easier to spot specific dates where the daily cases spiked."
   ]
  },
  {
   "cell_type": "code",
   "execution_count": 19,
   "metadata": {},
   "outputs": [
    {
     "data": {
      "text/plain": [
       "Text(0, 0.5, 'Number of Cases')"
      ]
     },
     "execution_count": 19,
     "metadata": {},
     "output_type": "execute_result"
    },
    {
     "data": {
      "image/png": "[encoded data removed]",
      "text/plain": [
       "<Figure size 1440x720 with 1 Axes>"
      ]
     },
     "metadata": {
      "needs_background": "light"
     },
     "output_type": "display_data"
    }
   ],
   "source": [
    "# Case 2 for Assumption 2\n",
    "# Assumption 2: Accumulated number of cases by date refers to the cumulative number of daily cases.\n",
    "cases_not_china['acc_cases']=cases_not_china['cases'].cumsum()\n",
    "cumulative_cases=cases_not_china.plot(x='date',y='acc_cases',title=\"Cumulative number of cases by date for all countries (excluding China)\",figsize=(20,10))\n",
    "cumulative_cases.set_ylabel('Number of Cases')\n",
    "# This graph helps visualise where the rate of infections rise exponentially."
   ]
  },
  {
   "cell_type": "markdown",
   "metadata": {},
   "source": [
    "### 2.4: Analysing across countries \n",
    "When the number of COVID-19 cases became higher than 10,000 in China, what was the number of cases for all other counties in that day? Print the 5 countries with highest number of cases.\n",
    "\n",
    "During the first 5 days that the daily cases in China dropped below 100, what is average number of cases for other countries? Report the top 5 countries with average number of cases."
   ]
  },
  {
   "cell_type": "code",
   "execution_count": 20,
   "metadata": {},
   "outputs": [
    {
     "data": {
      "text/html": [
       "<div>\n",
       "<style scoped>\n",
       "    .dataframe tbody tr th:only-of-type {\n",
       "        vertical-align: middle;\n",
       "    }\n",
       "\n",
       "    .dataframe tbody tr th {\n",
       "        vertical-align: top;\n",
       "    }\n",
       "\n",
       "    .dataframe thead th {\n",
       "        text-align: right;\n",
       "    }\n",
       "</style>\n",
       "<table border=\"1\" class=\"dataframe\">\n",
       "  <thead>\n",
       "    <tr style=\"text-align: right;\">\n",
       "      <th></th>\n",
       "      <th>cases</th>\n",
       "    </tr>\n",
       "    <tr>\n",
       "      <th>country</th>\n",
       "      <th></th>\n",
       "    </tr>\n",
       "  </thead>\n",
       "  <tbody>\n",
       "    <tr>\n",
       "      <th>Singapore</th>\n",
       "      <td>8</td>\n",
       "    </tr>\n",
       "    <tr>\n",
       "      <th>Vietnam</th>\n",
       "      <td>1</td>\n",
       "    </tr>\n",
       "    <tr>\n",
       "      <th>US</th>\n",
       "      <td>1</td>\n",
       "    </tr>\n",
       "    <tr>\n",
       "      <th>Malaysia</th>\n",
       "      <td>1</td>\n",
       "    </tr>\n",
       "    <tr>\n",
       "      <th>Philippines</th>\n",
       "      <td>0</td>\n",
       "    </tr>\n",
       "  </tbody>\n",
       "</table>\n",
       "</div>"
      ],
      "text/plain": [
       "             cases\n",
       "country           \n",
       "Singapore        8\n",
       "Vietnam          1\n",
       "US               1\n",
       "Malaysia         1\n",
       "Philippines      0"
      ]
     },
     "execution_count": 20,
     "metadata": {},
     "output_type": "execute_result"
    }
   ],
   "source": [
    "# Finding the date(s) where daily cases in China were beyond 10,000\n",
    "more_than_10k_china=cases_china.loc[(cases_china['cases']>10000)]\n",
    "more_than_10k_china\n",
    "# China had only one instance between January to March where daily cases exceeded 10,000, which was on the 13th of February 2020, where they had 15,136 new cases.\n",
    "\n",
    "february13_other_countries=cases_by_country.loc[(cases_by_country['date']=='2020-02-13')]\n",
    "february13_other_countries=february13_other_countries.groupby(['country']).sum()\n",
    "february13_other_countries.sort_values('cases',ascending=False).head()\n",
    "# On the date when China had more than 10,000 cases, Singapore had 8 cases, Vietnam had 1 case, US had 1 case and Malaysia had 1 case."
   ]
  },
  {
   "cell_type": "code",
   "execution_count": 21,
   "metadata": {},
   "outputs": [
    {
     "name": "stdout",
     "output_type": "stream",
     "text": [
      "The top 5 countries with the highest average number of cases are ['Italy', 'Iran', 'Korea, South', 'Spain', 'Germany']\n"
     ]
    }
   ],
   "source": [
    "# Finding the first 5 days that the daily cases in China dropped below 100\n",
    "less_than_100_china=cases_china.loc[(cases_china['cases']<100)]\n",
    "less_than_100_china=less_than_100_china['date'].head(5).tolist()\n",
    "dates_below_100_cases_countries=cases_by_country.loc[cases_by_country['date'].isin(less_than_100_china)]\n",
    "\n",
    "# Assumption: The average number of cases for other countries is the average number of daily cases on the first 5 dates where China had less than 100 daily cases.\n",
    "dates_below_100_cases_countries=dates_below_100_cases_countries.groupby(['country'])['cases'].mean().reset_index()\n",
    "dates_below_100_cases_countries=dates_below_100_cases_countries.sort_values('cases',ascending=False)\n",
    "top_5_highest_average=dates_below_100_cases_countries['country'].head().tolist()\n",
    "print(\"The top 5 countries with the highest average number of cases are {}\".format(top_5_highest_average))"
   ]
  }
 ],
 "metadata": {
  "kernelspec": {
   "display_name": "Python 3",
   "language": "python",
   "name": "python3"
  },
  "language_info": {
   "codemirror_mode": {
    "name": "ipython",
    "version": 3
   },
   "file_extension": ".py",
   "mimetype": "text/x-python",
   "name": "python",
   "nbconvert_exporter": "python",
   "pygments_lexer": "ipython3",
   "version": "3.6.10"
  }
 },
 "nbformat": 4,
 "nbformat_minor": 4
}
